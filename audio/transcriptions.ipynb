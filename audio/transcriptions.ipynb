{
 "cells": [
  {
   "cell_type": "code",
   "execution_count": 12,
   "id": "17ad7432-5ea6-4900-a581-65cdcaf85ab5",
   "metadata": {},
   "outputs": [],
   "source": [
    "import speech_recognition as sr\n",
    "from pydub import AudioSegment\n",
    "import os \n",
    "from pydub.silence import split_on_silence"
   ]
  },
  {
   "cell_type": "code",
   "execution_count": 13,
   "id": "f57b3075-c9f7-4801-b095-42c721663864",
   "metadata": {},
   "outputs": [],
   "source": [
    "# initialize the recognizer\n",
    "r = sr.Recognizer()"
   ]
  },
  {
   "cell_type": "code",
   "execution_count": 14,
   "id": "f227e122-5e80-4383-90f2-196a64f6da7b",
   "metadata": {},
   "outputs": [],
   "source": [
    "# a function to recognize speech in the audio file\n",
    "# so that we don't repeat ourselves in in other functions\n",
    "def transcribe_audio(path):\n",
    "    # use the audio file as the audio source\n",
    "    with sr.AudioFile(path) as source:\n",
    "        audio_listened = r.record(source)\n",
    "        # try converting it to text\n",
    "        text = r.recognize_google(audio_listened)\n",
    "    return text"
   ]
  },
  {
   "cell_type": "code",
   "execution_count": 15,
   "id": "6e270087-d2ee-4186-adfc-d9b40f6e460c",
   "metadata": {},
   "outputs": [],
   "source": [
    "# a function that splits the audio file into chunks on silence\n",
    "# and applies speech recognition\n",
    "def get_large_audio_transcription_on_silence(path):\n",
    "    \"\"\"Splitting the large audio file into chunks\n",
    "    and apply speech recognition on each of these chunks\"\"\"\n",
    "    # open the audio file using pydub\n",
    "    sound = AudioSegment.from_file(path)  \n",
    "    # split audio sound where silence is 500 miliseconds or more and get chunks\n",
    "    chunks = split_on_silence(sound,\n",
    "        # experiment with this value for your target audio file\n",
    "        min_silence_len = 500,\n",
    "        # adjust this per requirement\n",
    "        silence_thresh = sound.dBFS-14,\n",
    "        # keep the silence for 1 second, adjustable as well\n",
    "        keep_silence=500,\n",
    "    )\n",
    "    folder_name = \"audio-chunks\"\n",
    "    # create a directory to store the audio chunks\n",
    "    if not os.path.isdir(folder_name):\n",
    "        os.mkdir(folder_name)\n",
    "    whole_text = \"\"\n",
    "    # process each chunk \n",
    "    for i, audio_chunk in enumerate(chunks, start=1):\n",
    "        # export audio chunk and save it in\n",
    "        # the `folder_name` directory.\n",
    "        chunk_filename = os.path.join(folder_name, f\"chunk{i}.wav\")\n",
    "        audio_chunk.export(chunk_filename, format=\"wav\")\n",
    "        # recognize the chunk\n",
    "        try:\n",
    "            text = transcribe_audio(chunk_filename)\n",
    "        except sr.UnknownValueError as e:\n",
    "            print(\"Error:\", str(e))\n",
    "        else:\n",
    "            text = f\"{text.capitalize()}. \"\n",
    "            print(chunk_filename, \":\", text)\n",
    "            whole_text += text\n",
    "    # return the text for all chunks detected\n",
    "    return whole_text"
   ]
  },
  {
   "cell_type": "code",
   "execution_count": 16,
   "id": "04b7ad36-eee9-4368-ac22-a68dacf1bc9d",
   "metadata": {},
   "outputs": [
    {
     "data": {
      "text/plain": [
       "<_io.BufferedRandom name='ali_border.wav'>"
      ]
     },
     "execution_count": 16,
     "metadata": {},
     "output_type": "execute_result"
    }
   ],
   "source": [
    "# convert mp3 file to wav                                                       \n",
    "sound = AudioSegment.from_ogg(\"ali_border.ogg\")\n",
    "sound.export(\"ali_border.wav\", format=\"wav\")"
   ]
  },
  {
   "cell_type": "code",
   "execution_count": 17,
   "id": "211b1cb6-564d-43a5-abab-c1012bd4d0dc",
   "metadata": {},
   "outputs": [],
   "source": [
    "path = \"ali_border.wav\""
   ]
  },
  {
   "cell_type": "code",
   "execution_count": 18,
   "id": "98d27fd5-2503-440e-a01a-ed1da0692613",
   "metadata": {},
   "outputs": [
    {
     "name": "stdout",
     "output_type": "stream",
     "text": [
      "audio-chunks/chunk1.wav : I probably love my car. \n",
      "Error: \n",
      "Error: \n",
      "Error: \n",
      "Error: \n",
      "Error: \n",
      "Error: \n",
      "Error: \n",
      "Error: \n",
      "Error: \n",
      "Error: \n",
      "Error: \n",
      "audio-chunks/chunk13.wav : Wu-tang. \n",
      "Error: \n",
      "Error: \n",
      "Error: \n",
      "Error: \n",
      "\n",
      "Full text: I probably love my car. Wu-tang. \n"
     ]
    }
   ],
   "source": [
    "print(\"\\nFull text:\", get_large_audio_transcription_on_silence(path))"
   ]
  },
  {
   "cell_type": "code",
   "execution_count": 19,
   "id": "1eab4616-76a1-459f-93fd-58fd68a6fc80",
   "metadata": {},
   "outputs": [],
   "source": [
    "# a function that splits the audio file into fixed interval chunks\n",
    "# and applies speech recognition\n",
    "def get_large_audio_transcription_fixed_interval(path, minutes=5):\n",
    "    \"\"\"Splitting the large audio file into fixed interval chunks\n",
    "    and apply speech recognition on each of these chunks\"\"\"\n",
    "    # open the audio file using pydub\n",
    "    sound = AudioSegment.from_file(path)  \n",
    "    # split the audio file into chunks\n",
    "    chunk_length_ms = int(1000 * 60 * minutes) # convert to milliseconds\n",
    "    chunks = [sound[i:i + chunk_length_ms] for i in range(0, len(sound), chunk_length_ms)]\n",
    "    folder_name = \"audio-fixed-chunks\"\n",
    "    # create a directory to store the audio chunks\n",
    "    if not os.path.isdir(folder_name):\n",
    "        os.mkdir(folder_name)\n",
    "    whole_text = \"\"\n",
    "    # process each chunk \n",
    "    for i, audio_chunk in enumerate(chunks, start=1):\n",
    "        # export audio chunk and save it in\n",
    "        # the `folder_name` directory.\n",
    "        chunk_filename = os.path.join(folder_name, f\"chunk{i}.wav\")\n",
    "        audio_chunk.export(chunk_filename, format=\"wav\")\n",
    "        # recognize the chunk\n",
    "        try:\n",
    "            text = transcribe_audio(chunk_filename)\n",
    "        except sr.UnknownValueError as e:\n",
    "            print(\"Error:\", str(e))\n",
    "        else:\n",
    "            text = f\"{text.capitalize()}. \"\n",
    "            print(chunk_filename, \":\", text)\n",
    "            whole_text += text\n",
    "    # return the text for all chunks detected\n",
    "    return whole_text"
   ]
  },
  {
   "cell_type": "code",
   "execution_count": 20,
   "id": "a1491b0d-cd04-4a07-a357-d4f433dbef79",
   "metadata": {},
   "outputs": [
    {
     "name": "stdout",
     "output_type": "stream",
     "text": [
      "audio-fixed-chunks/chunk1.wav : I probably love my car. \n",
      "Error: \n",
      "Error: \n",
      "Error: \n",
      "Error: \n",
      "\n",
      "Full text: I probably love my car. \n"
     ]
    }
   ],
   "source": [
    "print(\"\\nFull text:\", get_large_audio_transcription_fixed_interval(path, minutes=1/6))"
   ]
  },
  {
   "cell_type": "code",
   "execution_count": 10,
   "id": "95350426-fb41-46a7-9ea7-4d85f0678fbf",
   "metadata": {},
   "outputs": [
    {
     "name": "stdout",
     "output_type": "stream",
     "text": [
      "I probably love my car\n"
     ]
    }
   ],
   "source": [
    "# open the file\n",
    "with sr.AudioFile(filename) as source:\n",
    "    # listen for the data (load audio to memory)\n",
    "    audio_data = r.record(source)\n",
    "    # recognize (convert from speech to text)\n",
    "    text = r.recognize_google(audio_data)\n",
    "    print(text)"
   ]
  },
  {
   "cell_type": "code",
   "execution_count": 11,
   "id": "84279068-f8cc-4017-85f9-4a8a7a414ebd",
   "metadata": {},
   "outputs": [],
   "source": [
    "f = open(\"ali_border.txt\", \"a\")\n",
    "f.write(text)\n",
    "f.close()"
   ]
  }
 ],
 "metadata": {
  "kernelspec": {
   "display_name": "Python 3 (ipykernel)",
   "language": "python",
   "name": "python3"
  },
  "language_info": {
   "codemirror_mode": {
    "name": "ipython",
    "version": 3
   },
   "file_extension": ".py",
   "mimetype": "text/x-python",
   "name": "python",
   "nbconvert_exporter": "python",
   "pygments_lexer": "ipython3",
   "version": "3.10.6"
  }
 },
 "nbformat": 4,
 "nbformat_minor": 5
}
